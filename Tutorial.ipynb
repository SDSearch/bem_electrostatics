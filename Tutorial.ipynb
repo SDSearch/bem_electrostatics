{
 "cells": [
  {
   "cell_type": "markdown",
   "metadata": {},
   "source": [
    "# Attributes and Functions"
   ]
  },
  {
   "cell_type": "markdown",
   "metadata": {},
   "source": [
    "The following shows all of the needed attributes and functions to use the package. These are in the that one would tend to need them to perform a calculation. All values shown here are the default values used."
   ]
  },
  {
   "cell_type": "code",
   "execution_count": null,
   "metadata": {},
   "outputs": [],
   "source": [
    "import bem_electrostatics ## name to use for import"
   ]
  },
  {
   "cell_type": "code",
   "execution_count": null,
   "metadata": {},
   "outputs": [],
   "source": [
    "## Creation of solute object which creates and imports surface mesh, and imports charge values and positions\n",
    "protein = bem_electrostatics.solute(\n",
    "    solute_file_path, ## This is the location of pqr file for the solute\n",
    "    external_mesh_file = None ## Used to define location of external pre-create mesh to be used. If defined without file extension (../../surf_mesh) it is assumed to be an msms mesh (.vert/.face), else it is imported based on the file extension and can be of any type available in meshio\n",
    "    save_mesh_build_files = False, ## Whether you wish to save the files created during the building and import of the mesh (otherwise this takes place in a tempory folder)\n",
    "    mesh_build_files_dir = \"mesh_files/\", ## The directory where to save biuld files, if this is requested\n",
    "    mesh_density = 1.0, ## If msms is used to mesh this is the mesh density, however, if nanoshaper is used this is the grid_scale (Approximate conversions: density of 4 ≈ grid_scale of 1.6, density of 11 ≈ grid_scale of 2.7, density of 23 ≈ grid_scale of 3.9)\n",
    "    mesh_probe_radius = 1.4, ## Size of the probe to be used during SES generation\n",
    "    mesh_generator = \"nanoshaper\", ## Which porgram to use for gerating the surface mesh. NanoShpaer is inclued with the library, \n",
    "    print_times = False, ## Whether to print the time taken for varouis parts of the calculation (time to genertate RHS, time to pass to discrete, etc.)\n",
    "    force_field = \"amber\" ## Which force field to use in the generation of a pqr from a pdb (pdb2pqr must be installed for this)\n",
    ")"
   ]
  },
  {
   "cell_type": "code",
   "execution_count": null,
   "metadata": {},
   "outputs": [],
   "source": [
    "## The following attributes of the created object are used to save the arguments specified during the object's creation\n",
    "protein.save_mesh_build_files\n",
    "protein.mesh_build_files_dir\n",
    "protein.mesh_density\n",
    "protein.mesh_probe_radius\n",
    "protein.mesh_generator\n",
    "protein.force_field\n",
    "\n",
    "## As either a pdb or pqr can be specified, the following attribute shows which was used\n",
    "protein.imported_file_type\n",
    "## If a pdb is used the path is saved to:\n",
    "protein.pdb_path\n",
    "## else the used pqr path is saved to:\n",
    "protein.pqr_path\n",
    "\n",
    "## The solute name is saved to the following attribute. If a pdb is used it is taken from this, otherwise it corresponds to the pqr filename\n",
    "protein.solute_name"
   ]
  },
  {
   "cell_type": "code",
   "execution_count": null,
   "metadata": {},
   "outputs": [],
   "source": [
    "protein.mesh ## Attribute contining the bemmp mesh object of the solute\n",
    "protein.q ## Attribute containing the pioint charges present in the the solute\n",
    "protein.x_q ## Attribute \n",
    "\n",
    "protein.mesh.number_of_elements"
   ]
  },
  {
   "cell_type": "code",
   "execution_count": null,
   "metadata": {},
   "outputs": [],
   "source": [
    "## There are three different formulations avaible to solve the potential across the boundary\n",
    "## These are \"direct\" (linearized Poisson–Boltzmann equation), \"juffer\" (see Juffer ETal 1991) and \"alpha_beta\" (currently under analysis)\n",
    "## The formulation to be used is set with the following attribute:\n",
    "protein.pb_formulation = \"direct\"\n",
    "\n",
    "## Attributes for the internal and external dielectric constants and inverse Debye length (kappa)\n",
    "protein.ep_in = 4.0\n",
    "protein.ep_ex = 80.0\n",
    "protein.kappa = 0.125\n",
    "\n",
    "## Attributes for the aplha and beta values to be used in the case that this formulation is used\n",
    "protein.pb_formulation_alpha = 1.0\n",
    "protein.pb_formulation_beta = self.ep_ex/self.ep_in\n",
    "\n",
    "## Whether to apply or not calderon preconditioning (only if using alpha_beta), and which to apply (squared, interior or exterior)\n",
    "protein.pb_formulation_preconditioning = False\n",
    "protein.pb_formulation_preconditioning_type = \"squared\"\n",
    "\n",
    "## Select which discrete form to use (strong or weak)\n",
    "protein.discrete_form_type = \"strong\"\n",
    "\n",
    "## Attributes that can be changed for the GMRES solver\n",
    "protein.gmres_tolerance = 1e-5\n",
    "protein.gmres_max_iterations = 1000"
   ]
  },
  {
   "cell_type": "code",
   "execution_count": null,
   "metadata": {},
   "outputs": [],
   "source": [
    "protein.calculate_potential() ## Function to solve the potential across the boundary using the parameters set above (formulation, dielectric constants, etc.)"
   ]
  },
  {
   "cell_type": "code",
   "execution_count": null,
   "metadata": {},
   "outputs": [],
   "source": [
    "## Attributes to whcih the results are saved\n",
    "protein.solver_iteration_count ## Iteration count of the GMRES solver\n",
    "protein.phi ## Bempp grid function of the potential on the surface mesh\n",
    "protein.d_phi ## Bempp grid function of the derivative of the potential on the surface mesh"
   ]
  },
  {
   "cell_type": "code",
   "execution_count": null,
   "metadata": {},
   "outputs": [],
   "source": [
    "protein.calculate_solvation_energy() ## Function to calculate the solvatation energy of the solute, using the results of the surface potential calculation"
   ]
  },
  {
   "cell_type": "code",
   "execution_count": null,
   "metadata": {},
   "outputs": [],
   "source": [
    "## Attributes to whcih the results are saved\n",
    "protein.solvation_energy ## Solvatation energy calculated, in [kcal/mol]"
   ]
  },
  {
   "cell_type": "markdown",
   "metadata": {},
   "source": [
    "---"
   ]
  },
  {
   "cell_type": "markdown",
   "metadata": {},
   "source": [
    "# Example 1"
   ]
  },
  {
   "cell_type": "markdown",
   "metadata": {},
   "source": [
    "Now a simple example of how to calulate the solvatation energy of a protein using an previously generated pqr file. In this case it will be the 5pti protein having generated the pqr from the pdb file using the CHARMM force field. First we must import the main package."
   ]
  },
  {
   "cell_type": "code",
   "execution_count": 1,
   "metadata": {},
   "outputs": [
    {
     "name": "stdout",
     "output_type": "stream",
     "text": [
      "Could not find Gmsh.Interactive plotting and shapes module not available.\n"
     ]
    }
   ],
   "source": [
    "import bem_electrostatics"
   ]
  },
  {
   "cell_type": "markdown",
   "metadata": {},
   "source": [
    "Now we create solute object, giving the path of the pqr file to be used."
   ]
  },
  {
   "cell_type": "code",
   "execution_count": 2,
   "metadata": {},
   "outputs": [],
   "source": [
    "protein = bem_electrostatics.solute(\"5pti.pqr\")"
   ]
  },
  {
   "cell_type": "markdown",
   "metadata": {},
   "source": [
    "If a previously created msms or other type of mesh is to be used, we can import it as follows."
   ]
  },
  {
   "cell_type": "code",
   "execution_count": null,
   "metadata": {},
   "outputs": [],
   "source": [
    "#protein = bem_electrostatics.solute(\"5pti.pqr\" , external_mesh_file = \"surf_d02\") ## If no extension is found it is assumed to be .vert/.face\n",
    "\n",
    "#protein = bem_electrostatics.solute(\"5pti.pqr\" , external_mesh_file = \"surf_d02.off\") ## Or any file supported by meshio can be used"
   ]
  },
  {
   "cell_type": "markdown",
   "metadata": {},
   "source": [
    "Now we have gerated and imported the mesh, as well as the charges and their positons. As the mesh is a bempp mesh object we can manipulate it with the corresponding functions for this object."
   ]
  },
  {
   "cell_type": "code",
   "execution_count": 3,
   "metadata": {},
   "outputs": [
    {
     "name": "stdout",
     "output_type": "stream",
     "text": [
      "Number of elements: 9352\n",
      "Number of vertices: 4676\n"
     ]
    }
   ],
   "source": [
    "print(\"Number of elements:\", protein.mesh.number_of_elements)\n",
    "print(\"Number of vertices:\", protein.mesh.number_of_vertices)\n",
    "#protein.mesh.plot() ## Uncomment to see a plot of the surface mesh"
   ]
  },
  {
   "cell_type": "markdown",
   "metadata": {},
   "source": [
    "As we will calculate the energy using all of the default options we only need call the calculate_solvation_energy() function."
   ]
  },
  {
   "cell_type": "code",
   "execution_count": 4,
   "metadata": {},
   "outputs": [
    {
     "name": "stderr",
     "output_type": "stream",
     "text": [
      "/home/stefan/miniconda3/envs/bempp/lib/python3.7/site-packages/scipy/sparse/linalg/dsolve/linsolve.py:296: SparseEfficiencyWarning: splu requires CSC matrix format\n",
      "  warn('splu requires CSC matrix format', SparseEfficiencyWarning)\n"
     ]
    }
   ],
   "source": [
    "protein.calculate_solvation_energy()"
   ]
  },
  {
   "cell_type": "markdown",
   "metadata": {},
   "source": [
    "This has first calculated the potential on the surface mesh, then calculated the solvation energy of the protein which we can print as follows:"
   ]
  },
  {
   "cell_type": "code",
   "execution_count": 5,
   "metadata": {},
   "outputs": [
    {
     "name": "stdout",
     "output_type": "stream",
     "text": [
      "Solvation energy: -338.37565198177055 [kcal/mol]\n"
     ]
    }
   ],
   "source": [
    "print(\"Solvation energy:\", protein.solvation_energy, \"[kcal/mol]\")"
   ]
  },
  {
   "cell_type": "markdown",
   "metadata": {},
   "source": [
    "---"
   ]
  },
  {
   "cell_type": "markdown",
   "metadata": {},
   "source": [
    "# Example 2"
   ]
  },
  {
   "cell_type": "markdown",
   "metadata": {},
   "source": [
    "Now an example of how to calulate and visulalise only the potential across the surface."
   ]
  },
  {
   "cell_type": "code",
   "execution_count": 6,
   "metadata": {},
   "outputs": [],
   "source": [
    "import bem_electrostatics"
   ]
  },
  {
   "cell_type": "markdown",
   "metadata": {},
   "source": [
    "Create the solute object using the same pqr as before."
   ]
  },
  {
   "cell_type": "code",
   "execution_count": 7,
   "metadata": {},
   "outputs": [],
   "source": [
    "protein2 = bem_electrostatics.solute(\"5pti.pqr\")"
   ]
  },
  {
   "cell_type": "markdown",
   "metadata": {},
   "source": [
    "Now to calculate the surface potential using the default parameters, all we have to do is call the calculate_potential() function."
   ]
  },
  {
   "cell_type": "code",
   "execution_count": null,
   "metadata": {},
   "outputs": [
    {
     "name": "stderr",
     "output_type": "stream",
     "text": [
      "/home/stefan/miniconda3/envs/bempp/lib/python3.7/site-packages/scipy/sparse/linalg/dsolve/linsolve.py:296: SparseEfficiencyWarning: splu requires CSC matrix format\n",
      "  warn('splu requires CSC matrix format', SparseEfficiencyWarning)\n"
     ]
    }
   ],
   "source": [
    "protein2.calculate_potential()"
   ]
  },
  {
   "cell_type": "markdown",
   "metadata": {},
   "source": [
    "To visulise the surface potiential we apply the plot() funtion to the calculated surface potential (phi), which is saved as a bempp GridFunction."
   ]
  },
  {
   "cell_type": "code",
   "execution_count": null,
   "metadata": {},
   "outputs": [],
   "source": [
    "protein2.phi.plot()"
   ]
  },
  {
   "cell_type": "code",
   "execution_count": null,
   "metadata": {},
   "outputs": [],
   "source": []
  }
 ],
 "metadata": {
  "kernelspec": {
   "display_name": "Python 3",
   "language": "python",
   "name": "python3"
  },
  "language_info": {
   "codemirror_mode": {
    "name": "ipython",
    "version": 3
   },
   "file_extension": ".py",
   "mimetype": "text/x-python",
   "name": "python",
   "nbconvert_exporter": "python",
   "pygments_lexer": "ipython3",
   "version": "3.7.3"
  }
 },
 "nbformat": 4,
 "nbformat_minor": 4
}
